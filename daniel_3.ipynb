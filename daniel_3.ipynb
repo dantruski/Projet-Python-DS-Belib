{
 "cells": [
  {
   "cell_type": "markdown",
   "metadata": {},
   "source": [
    "Troisième base de données : challenge Paris-Saclay\n",
    "\n",
    "16/12/24 : je vais continuer à travailler sur le dataset no 2, nous verrons plus tard comment utiliser le dernier."
   ]
  },
  {
   "cell_type": "markdown",
   "metadata": {},
   "source": [
    "Importation des bibliothèques et du dataset"
   ]
  },
  {
   "cell_type": "code",
   "execution_count": 19,
   "metadata": {},
   "outputs": [],
   "source": [
    "import pandas as pd \n",
    "import numpy as np\n"
   ]
  },
  {
   "cell_type": "code",
   "execution_count": 31,
   "metadata": {},
   "outputs": [
    {
     "name": "stderr",
     "output_type": "stream",
     "text": [
      "/tmp/ipykernel_62999/365601772.py:1: DtypeWarning: Columns (1,3,5,11,20,49,52,54,55,56,64,70,71,94,95,101,102,114,129,131,132,133,138,139,152,157,163,174,180,184,193,196,201,207,208,219,220,228,241,245,250,256,258,264,265,269,270,271,272,273) have mixed types. Specify dtype option on import or set low_memory=False.\n",
      "  df_real_time=pd.read_csv(\"ytrain_NpxebDC.csv\")\n"
     ]
    }
   ],
   "source": [
    "df_real_time=pd.read_csv(\"ytrain_NpxebDC.csv\")\n",
    "df_real_time.head(20)\n",
    "df_real_time.dropna()\n",
    "\n",
    "df_static=pd.read_csv(\"info_static.csv\")"
   ]
  },
  {
   "cell_type": "code",
   "execution_count": 27,
   "metadata": {},
   "outputs": [
    {
     "data": {
      "text/plain": [
       "timestamp       0\n",
       "S7-T1        1227\n",
       "S2-T1         150\n",
       "S19-T1       1227\n",
       "S56-T3         68\n",
       "             ... \n",
       "S97-T2       4761\n",
       "S25-T1       5789\n",
       "S25-T2       7239\n",
       "S98-T2       7162\n",
       "S99-T2       7277\n",
       "Length: 274, dtype: int64"
      ]
     },
     "execution_count": 27,
     "metadata": {},
     "output_type": "execute_result"
    }
   ],
   "source": [
    "distinct_elmts=df_real_time.apply(lambda col : col.unique())\n",
    "df_real_time.replace(\"nan\",np.nan,inplace=True)\n",
    "count_nan=df_real_time.isnull().sum()\n",
    "\n",
    "count_nan"
   ]
  },
  {
   "cell_type": "markdown",
   "metadata": {},
   "source": [
    "Importing Kmeans, KNN functions"
   ]
  },
  {
   "cell_type": "code",
   "execution_count": 29,
   "metadata": {},
   "outputs": [],
   "source": [
    "import matplotlib.pyplot as plt\n",
    "\n",
    "from sklearn.cluster import KMeans\n",
    "from sklearn.neighbors import KNeighborsClassifier\n",
    "from sklearn.model_selection import train_test_split\n",
    "\n"
   ]
  },
  {
   "cell_type": "markdown",
   "metadata": {},
   "source": [
    "Indicator for average availability"
   ]
  },
  {
   "cell_type": "code",
   "execution_count": 30,
   "metadata": {},
   "outputs": [],
   "source": [
    "R= 6371.0 #radius of the Earth in km\n",
    "def haversine(lat1,lon1,lat2,lon2):\n",
    "    lat1, lon1, lat2, lon2 = map(radians, [lat1, lon1, lat2, lon2])\n",
    "    dlat = lat2 - lat1\n",
    "    dlon = lon2 - lon1\n",
    "    a = np.sin(dlat / 2)**2 + np.cos(lat1) * np.cos(lat2) * np.sin(dlon / 2)**2\n",
    "    c = 2 * np.atan2(sqrt(a), sqrt(1 - a))\n",
    "\n",
    "    distance = R * c\n",
    "\n",
    "    return distance\n",
    "\n",
    "\n"
   ]
  },
  {
   "cell_type": "code",
   "execution_count": 36,
   "metadata": {},
   "outputs": [],
   "source": [
    "radius=1 #check for availability in a 1 km radius\n",
    "lat_stations=df_static[\"latitude\"].unique()\n",
    "lon_stations=df_static[\"longitude\"].unique()\n",
    "coord_stations=np.column_stack((lat_stations,lon_stations))"
   ]
  },
  {
   "cell_type": "code",
   "execution_count": null,
   "metadata": {},
   "outputs": [],
   "source": [
    "\n",
    "\n",
    "\n",
    "    "
   ]
  }
 ],
 "metadata": {
  "kernelspec": {
   "display_name": "base",
   "language": "python",
   "name": "python3"
  },
  "language_info": {
   "codemirror_mode": {
    "name": "ipython",
    "version": 3
   },
   "file_extension": ".py",
   "mimetype": "text/x-python",
   "name": "python",
   "nbconvert_exporter": "python",
   "pygments_lexer": "ipython3",
   "version": "3.12.7"
  }
 },
 "nbformat": 4,
 "nbformat_minor": 2
}
