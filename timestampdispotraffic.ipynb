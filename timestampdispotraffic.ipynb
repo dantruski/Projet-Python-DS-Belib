{
 "cells": [
  {
   "cell_type": "code",
   "execution_count": 15,
   "metadata": {},
   "outputs": [],
   "source": [
    "import folium\n",
    "import pandas as pd\n",
    "from folium.plugins import TimestampedGeoJson\n",
    "from shapely.geometry import Point\n",
    "import numpy as np\n",
    "\n",
    "from branca.colormap import linear\n",
    "\n",
    "\n"
   ]
  },
  {
   "cell_type": "code",
   "execution_count": 24,
   "metadata": {},
   "outputs": [],
   "source": [
    "# Charger les données à partir du fichier CSV\n",
    "file_path = 'test2.csv'  # Remplacez par le chemin du fichier\n",
    "data = pd.read_csv(file_path, parse_dates=['timestamp'])\n",
    "df = pd.DataFrame(data)"
   ]
  },
  {
   "cell_type": "code",
   "execution_count": 25,
   "metadata": {},
   "outputs": [
    {
     "name": "stdout",
     "output_type": "stream",
     "text": [
      "   Unnamed: 0                 timestamp  center_lat  center_lon  \\\n",
      "0           0 2020-01-22 00:00:00+00:00     48.8175      2.3325   \n",
      "1           1 2020-01-22 00:00:00+00:00     48.8175      2.3375   \n",
      "2           2 2020-01-22 00:00:00+00:00     48.8175      2.3425   \n",
      "3           3 2020-01-22 00:00:00+00:00     48.8175      2.3475   \n",
      "4           4 2020-01-22 00:00:00+00:00     48.8175      2.3575   \n",
      "\n",
      "   distance_to_closest_1  taux_dispo_closest_1  distance_to_closest_2  \\\n",
      "0               0.008150              0.333333               0.009885   \n",
      "1               0.006918              0.333333               0.006950   \n",
      "2               0.003534              0.333333               0.006219   \n",
      "3               0.005122              0.333333               0.007515   \n",
      "4               0.011732              0.833333               0.013002   \n",
      "\n",
      "   taux_dispo_closest_2  distance_to_closest_3  taux_dispo_closest_3  \\\n",
      "0              0.333333               0.011294              0.444444   \n",
      "1              0.333333               0.008215              0.444444   \n",
      "2              0.333333               0.007161              0.444444   \n",
      "3              0.500000               0.009236              0.444444   \n",
      "4              0.583333               0.014120              0.611111   \n",
      "\n",
      "   normalized_distance  mean_k  \n",
      "0             0.412711     0.0  \n",
      "1             0.350306     0.0  \n",
      "2             0.178961     0.0  \n",
      "3             0.259342     0.0  \n",
      "4             0.594062     0.0  \n",
      "         Unnamed: 0    center_lat    center_lon  distance_to_closest_1  \\\n",
      "count  75036.000000  75036.000000  75036.000000           75036.000000   \n",
      "mean   37517.500000     48.858435      2.339088               0.006298   \n",
      "std    21661.171737      0.021287      0.042379               0.003291   \n",
      "min        0.000000     48.817500      2.257500               0.000310   \n",
      "25%    18758.750000     48.842500      2.307500               0.003927   \n",
      "50%    37517.500000     48.857500      2.342500               0.005903   \n",
      "75%    56276.250000     48.877500      2.372500               0.008411   \n",
      "max    75035.000000     48.897500      2.417500               0.028934   \n",
      "\n",
      "       taux_dispo_closest_1  distance_to_closest_2  taux_dispo_closest_2  \\\n",
      "count          75036.000000           75036.000000          75036.000000   \n",
      "mean               0.688393               0.008238              0.691227   \n",
      "std                0.239402               0.003081              0.173511   \n",
      "min                0.333333               0.002174              0.333333   \n",
      "25%                0.500000               0.006036              0.541667   \n",
      "50%                0.666667               0.007764              0.666667   \n",
      "75%                1.000000               0.010036              0.833333   \n",
      "max                1.000000               0.029467              1.000000   \n",
      "\n",
      "       distance_to_closest_3  taux_dispo_closest_3  normalized_distance  \\\n",
      "count           75036.000000          75036.000000         75036.000000   \n",
      "mean                0.009860              0.694233             0.307351   \n",
      "std                 0.003151              0.145724             0.161755   \n",
      "min                 0.002594              0.333333             0.010698   \n",
      "25%                 0.007790              0.583333             0.188382   \n",
      "50%                 0.009477              0.694444             0.285306   \n",
      "75%                 0.011485              0.805556             0.408515   \n",
      "max                 0.029930              1.000000             1.000000   \n",
      "\n",
      "        mean_k  \n",
      "count  75036.0  \n",
      "mean       0.0  \n",
      "std        0.0  \n",
      "min        0.0  \n",
      "25%        0.0  \n",
      "50%        0.0  \n",
      "75%        0.0  \n",
      "max        0.0  \n",
      "taux_dispo_closest_1\n",
      "1.000000    19301\n",
      "0.666667    16837\n",
      "0.333333    12861\n",
      "0.500000     4239\n",
      "0.583333     4201\n",
      "0.833333     4149\n",
      "0.416667     3989\n",
      "0.750000     3947\n",
      "0.916667     3082\n",
      "0.555556     2232\n",
      "0.555556       73\n",
      "0.611111       33\n",
      "0.638889       24\n",
      "0.472222       16\n",
      "0.777778       14\n",
      "0.805556       13\n",
      "0.944444       12\n",
      "0.694444        7\n",
      "0.888889        6\n",
      "Name: count, dtype: int64\n"
     ]
    }
   ],
   "source": [
    "print(data.head())  # Voir les premières lignes du dataset\n",
    "print(data.describe())  # Statistiques descriptives pour détecter les anomalies\n",
    "print(data['taux_dispo_closest_1'].value_counts())  # Fréquences des valeurs spécifiques\n"
   ]
  },
  {
   "cell_type": "code",
   "execution_count": 26,
   "metadata": {},
   "outputs": [
    {
     "data": {
      "image/png": "[encoded data removed]",
      "text/plain": [
       "<Figure size 640x480 with 1 Axes>"
      ]
     },
     "metadata": {},
     "output_type": "display_data"
    }
   ],
   "source": [
    "import matplotlib.pyplot as plt\n",
    "\n",
    "data['mean_k'].hist(bins=50)\n",
    "plt.title(\"Distribution des valeurs moyenne_occup\")\n",
    "plt.xlabel(\"mean_k\")\n",
    "plt.ylabel(\"Fréquence\")\n",
    "plt.show()\n"
   ]
  },
  {
   "cell_type": "code",
   "execution_count": 20,
   "metadata": {},
   "outputs": [],
   "source": [
    "# Préparer les coins des carrés à partir des centres\n",
    "square_size = 0.005  # Taille des carrés (latitude/longitude)\n",
    "data['lat_min'] = data['center_lat'] - square_size / 2\n",
    "data['lat_max'] = data['center_lat'] + square_size / 2\n",
    "data['lon_min'] = data['center_lon'] - square_size / 2\n",
    "data['lon_max'] = data['center_lon'] + square_size / 2\n"
   ]
  },
  {
   "cell_type": "code",
   "execution_count": 21,
   "metadata": {},
   "outputs": [],
   "source": [
    "\n",
    "\n",
    "def draw(var):\n",
    "\n",
    "    # Préparer la colormap\n",
    "    cmap = linear.PuRd_09.scale(data[var].min(), data[var].max())\n",
    "\n",
    "    # Initialiser la carte centrée sur Paris\n",
    "    m = folium.Map(location=[48.8566, 2.3522], zoom_start=12)\n",
    "\n",
    "    # Préparer le GeoJSON pour animer les carrés\n",
    "    geojson_data = []\n",
    "\n",
    "    for _, row in data.iterrows():\n",
    "        # Définir la couleur du carré en fonction de 'moyenne_k'\n",
    "        color = cmap(row[var])\n",
    "\n",
    "        # Ajouter le carré à la liste GeoJSON\n",
    "        geojson_data.append({\n",
    "            \"type\": \"Feature\",\n",
    "            \"geometry\": {\n",
    "                \"type\": \"Polygon\",\n",
    "                \"coordinates\": [[\n",
    "                    [row['lon_min'], row['lat_min']],\n",
    "                    [row['lon_min'], row['lat_max']],\n",
    "                    [row['lon_max'], row['lat_max']],\n",
    "                    [row['lon_max'], row['lat_min']],\n",
    "                    [row['lon_min'], row['lat_min']]  # Fermer le polygone\n",
    "                ]]\n",
    "            },\n",
    "            \"properties\": {\n",
    "                \"time\": row['timestamp'].isoformat(),\n",
    "                \"style\": {\n",
    "                    \"color\": \"\",\n",
    "                    \"fillColor\": color,\n",
    "                    \"fillOpacity\": 0.4,\n",
    "                },\n",
    "                \"popup\": (f\"Heure: {row['timestamp']}<br>\"\n",
    "                        f\"Moyenne Occup: {row[var]:.2f}<br>\")\n",
    "            }\n",
    "        })\n",
    "\n",
    "\n",
    "        \n",
    "\n",
    "    # Ajouter l'animation des carrés sur la carte\n",
    "    TimestampedGeoJson(\n",
    "        {\"type\": \"FeatureCollection\", \"features\": geojson_data},\n",
    "        period='PT1H',  # Intervalle entre les changements (1 heure)\n",
    "        duration=\"PT1H\",  # Durée d'affichage de chaque état\n",
    "        auto_play=True,   # Lancer automatiquement\n",
    "        loop=False,       # Ne pas boucler\n",
    "        add_last_point=True\n",
    "    ).add_to(m)\n",
    "\n",
    "    # Afficher la carte\n",
    "    return m\n"
   ]
  },
  {
   "cell_type": "code",
   "execution_count": 27,
   "metadata": {},
   "outputs": [],
   "source": [
    "#draw('distance_to_station')\n"
   ]
  },
  {
   "cell_type": "code",
   "execution_count": 28,
   "metadata": {},
   "outputs": [],
   "source": [
    "#draw('taux_dispo_closest')"
   ]
  },
  {
   "cell_type": "code",
   "execution_count": 29,
   "metadata": {},
   "outputs": [],
   "source": [
    "#draw('mean_k')"
   ]
  }
 ],
 "metadata": {
  "kernelspec": {
   "display_name": "base",
   "language": "python",
   "name": "python3"
  },
  "language_info": {
   "codemirror_mode": {
    "name": "ipython",
    "version": 3
   },
   "file_extension": ".py",
   "mimetype": "text/x-python",
   "name": "python",
   "nbconvert_exporter": "python",
   "pygments_lexer": "ipython3",
   "version": "3.12.7"
  }
 },
 "nbformat": 4,
 "nbformat_minor": 2
}
