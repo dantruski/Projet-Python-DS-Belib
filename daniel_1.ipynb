{
 "cells": [
  {
   "cell_type": "markdown",
   "metadata": {},
   "source": [
    "Importation des librairies"
   ]
  },
  {
   "cell_type": "code",
   "execution_count": 4,
   "metadata": {},
   "outputs": [],
   "source": [
    "import requests\n",
    "import pandas as pd\n",
    "import geopandas as gpd\n",
    "import matplotlib.pyplot as plt"
   ]
  },
  {
   "cell_type": "markdown",
   "metadata": {},
   "source": [
    "Importation des API"
   ]
  },
  {
   "cell_type": "code",
   "execution_count": 38,
   "metadata": {},
   "outputs": [],
   "source": [
    "def get_df_from_url(url):\n",
    "    # Send a GET request to the API URL\n",
    "    req = requests.get(url)\n",
    "    \n",
    "    # Ensure the request was successful (status code 200)\n",
    "    if req.status_code == 200:\n",
    "        wb = req.json()  # Parse the JSON response\n",
    "        \n",
    "        # Check if the response is directly a list of records\n",
    "        if isinstance(wb, list):\n",
    "            # Directly normalize the list of records into a DataFrame\n",
    "            df = pd.json_normalize(wb)\n",
    "        else:\n",
    "            # If the response contains a 'results' key, normalize that\n",
    "            df = pd.json_normalize(wb.get(\"results\", []))\n",
    "        \n",
    "        return df\n",
    "    else:\n",
    "        # Handle failed request (non-200 status code)\n",
    "        print(f\"Failed to retrieve data: {req.status_code}\")\n",
    "        return None"
   ]
  },
  {
   "cell_type": "code",
   "execution_count": 44,
   "metadata": {},
   "outputs": [
    {
     "data": {
      "text/plain": [
       "(2175, 10)"
      ]
     },
     "execution_count": 44,
     "metadata": {},
     "output_type": "execute_result"
    }
   ],
   "source": [
    "api_url_1='https://opendata.paris.fr/api/explore/v2.1/catalog/datasets/belib-points-de-recharge-pour-vehicules-electriques-donnees-statiques/exports/json'\n",
    "api_url_2='https://opendata.paris.fr/api/explore/v2.1/catalog/datasets/belib-points-de-recharge-pour-vehicules-electriques-disponibilite-temps-reel/exports/json'\n",
    "api_url_3='https://opendata.paris.fr/api/explore/v2.1/catalog/datasets/comptages-routiers-permanents/exports/json'\n",
    "\n",
    "belib_statique=get_df_from_url(api_url_1)\n",
    "belib_temps_reel=get_df_from_url(api_url_2)\n",
    "\n",
    "belib_temps_reel.shape\n",
    "\n"
   ]
  },
  {
   "cell_type": "code",
   "execution_count": null,
   "metadata": {},
   "outputs": [],
   "source": []
  }
 ],
 "metadata": {
  "kernelspec": {
   "display_name": "base",
   "language": "python",
   "name": "python3"
  },
  "language_info": {
   "codemirror_mode": {
    "name": "ipython",
    "version": 3
   },
   "file_extension": ".py",
   "mimetype": "text/x-python",
   "name": "python",
   "nbconvert_exporter": "python",
   "pygments_lexer": "ipython3",
   "version": "3.12.7"
  }
 },
 "nbformat": 4,
 "nbformat_minor": 2
}
