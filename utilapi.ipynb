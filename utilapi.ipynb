{
 "cells": [
  {
   "cell_type": "code",
   "execution_count": 1,
   "metadata": {},
   "outputs": [],
   "source": [
    "import requests\n",
    "import pandas as pd\n",
    "\n",
    "req = requests.get(\"https://opendata.paris.fr/api/explore/v2.1/catalog/datasets/belib-points-de-recharge-pour-vehicules-electriques-donnees-statiques/records?limit=20\")\n",
    "wb = req.json()\n"
   ]
  },
  {
   "cell_type": "code",
   "execution_count": 2,
   "metadata": {},
   "outputs": [
    {
     "name": "stdout",
     "output_type": "stream",
     "text": [
      "b'{\"total_count\": 1947, \"results\": [{\"id_pdc_local\": \"FR*V75*E9015*06*2\", \"statut_pdc\": \"En service\", \"arrondissement\": \"15e Arrondissement\", \"id_station_local\": \"FR*V75*P9015*06\", \"id_station_itinerance\": \"FRV75P901506\", \"nom_station\": \"Paris | Rue Desnouettes 55\", \"code_insee_commune\": \"75115\", \"implantation_station\": \"Voirie\", \"nbre_pdc\": \"3\", \"date_maj\": \"2024-07-01\", \"condition_acces\": \"Acc\\\\u00e8s libre\", \"adresse_station\": \"55 Rue Desnouettes 75015 Paris\", \"coordonneesxy\": {\"lon\": 2.286912, \"lat\": 48.83571}, \"gratuit\": \"false\", \"paiement_acte\": \"true\", \"paiement_cb\": \"false\", \"paiement_autre\": \"true\", \"reservation\": \"false\", \"observations\": [\"Paiement autre - badge RFID Belib ou autre, application Belib, QRCode sur chaque PDC, site internet Belib\", \"Plus d\\'information - https://belib.paris.fr\"], \"num_pdl\": \"07436179348549\", \"siren_amenageur\": \"531680445\", \"contact_amenageur\": \"assistance.technique@tevgo.fr\", \"nom_amenageur\": \"TOTALENERGIES\", \"nom_operateur\": \"TOTALENERGIES\", \"conta'\n"
     ]
    }
   ],
   "source": [
    "print(req.content[:1000])"
   ]
  },
  {
   "cell_type": "code",
   "execution_count": null,
   "metadata": {},
   "outputs": [],
   "source": [
    "import pandas as pd\n",
    "import geopandas as gpd\n",
    "\n",
    "\n",
    "def get_dpe_from_url(url):\n",
    "\n",
    "    req = requests.get(url)\n",
    "    wb = req.json()\n",
    "    df = pd.json_normalize(wb[\"results\"])\n",
    "\n",
    "    dpe = gpd.GeoDataFrame(\n",
    "        df, geometry=gpd.points_from_xy(df.longitude, df.latitude), crs=4326\n",
    "    )\n",
    "    dpe = dpe.dropna(subset=[\"longitude\", \"latitude\"])\n",
    "\n",
    "    return dpe\n",
    "\n",
    "\n",
    "dpe = get_dpe_from_url(url_api)\n",
    "dpe.head(2)"
   ]
  }
 ],
 "metadata": {
  "kernelspec": {
   "display_name": "base",
   "language": "python",
   "name": "python3"
  },
  "language_info": {
   "codemirror_mode": {
    "name": "ipython",
    "version": 3
   },
   "file_extension": ".py",
   "mimetype": "text/x-python",
   "name": "python",
   "nbconvert_exporter": "python",
   "pygments_lexer": "ipython3",
   "version": "3.12.7"
  }
 },
 "nbformat": 4,
 "nbformat_minor": 2
}
