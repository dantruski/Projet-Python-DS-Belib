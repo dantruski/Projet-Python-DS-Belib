{
 "cells": [
  {
   "cell_type": "code",
   "execution_count": 1,
   "metadata": {},
   "outputs": [],
   "source": [
    "import pandas as pd\n",
    "import numpy as np\n",
    "from shapely.geometry import Point\n",
    "from shapely.geometry.polygon import Polygon\n",
    "import folium\n",
    "from folium.plugins import TimestampedGeoJson\n",
    "from math import radians, sin, cos, sqrt, atan2\n",
    "from branca.colormap import linear"
   ]
  },
  {
   "cell_type": "code",
   "execution_count": 2,
   "metadata": {},
   "outputs": [],
   "source": [
    "data = pd.read_csv(\"hourly_df_semaine2229.csv\")\n",
    "df_real = pd.DataFrame(data)\n",
    "df_real['taux_dispo'] =  (df_real['Available'] + df_real['Offline']/3)/3\n",
    "df_real = df_real[['timestamp','latitude','longitude','taux_occup','taux_dispo']]\n",
    "\n"
   ]
  },
  {
   "cell_type": "code",
   "execution_count": 3,
   "metadata": {},
   "outputs": [],
   "source": [
    "# Définir les limites de la grille (Paris)\n",
    "lat_min, lat_max = 48.81, 48.92\n",
    "lon_min, lon_max = 2.255, 2.42\n",
    "step = 0.005  # Taille des carrés (grille de 0.005°)\n",
    "\n",
    "# Créer les carrés de la grille\n",
    "latitudes = np.arange(lat_min, lat_max, step)\n",
    "longitudes = np.arange(lon_min, lon_max, step)\n"
   ]
  },
  {
   "cell_type": "code",
   "execution_count": null,
   "metadata": {},
   "outputs": [],
   "source": []
  },
  {
   "cell_type": "code",
   "execution_count": null,
   "metadata": {},
   "outputs": [],
   "source": [
    "\n",
    "\n",
    "\n",
    "# Liste pour stocker les données des carrés\n",
    "grille_data = []\n",
    "\n",
    "for i in range(len(latitudes) - 1):\n",
    "    for j in range(len(longitudes) - 1):\n",
    "        # Calculer le centre du carré\n",
    "        center_lat = (latitudes[i] + latitudes[i + 1]) / 2\n",
    "        center_lon = (longitudes[j] + longitudes[j + 1]) / 2\n",
    "        center_point = Point(center_lon, center_lat)\n",
    "\n",
    "        # Définir les limites du carré (polygon)\n",
    "        bounds = [\n",
    "            (latitudes[i], longitudes[j]),\n",
    "            (latitudes[i], longitudes[j + 1]),\n",
    "            (latitudes[i + 1], longitudes[j + 1]),\n",
    "            (latitudes[i + 1], longitudes[j]),\n",
    "        ]\n",
    "        polygon = Polygon(bounds)\n",
    "\n",
    "        # Vérifier si le centre est dans Paris (tous arrondissements combinés)\n",
    "        if not arrondissements_gdf.geometry.unary_union.contains(center_point):\n",
    "            continue  # Ignorer les carrés hors des arrondissements de Paris\n",
    "\n",
    "        # Vérifier si le centre est proche des zones exclues (fonction personnalisée)\n",
    "        if is_near_exclusion(center_lat, center_lon):  # Fonction à définir\n",
    "            continue\n",
    "\n",
    "        # Calculer la distance à la station la plus proche\n",
    "        distance_to_station = stations_distance(center_lat, center_lon)  # Fonction à définir\n",
    "\n",
    "        # Ajouter les données du carré à la liste\n",
    "        grille_data.append({\n",
    "            \"id\": f\"{i}_{j}\",\n",
    "            \"center_lat\": center_lat,\n",
    "            \"center_lon\": center_lon,\n",
    "            \"polygon\": polygon,\n",
    "            \"distance_to_station\": distance_to_station,\n",
    "        })\n",
    "\n",
    "# Convertir les données des carrés en DataFrame\n",
    "grille_df = pd.DataFrame(grille_data)\n",
    "\n",
    "# Normaliser la distance pour une visualisation (facultatif)\n",
    "grille_df[\"normalized_distance\"] = grille_df[\"distance_to_station\"] / grille_df[\"distance_to_station\"].max()\n",
    "\n",
    "# Sauvegarder la grille en CSV (optionnel)\n",
    "grille_df.to_csv(\"grille_carre_paris.csv\", index=False)\n",
    "\n",
    "# Visualisation de la grille avec des couleurs en fonction des distances\n",
    "import folium\n",
    "\n",
    "m2 = folium.Map(location=[(lat_min + lat_max) / 2, (lon_min + lon_max) / 2], zoom_start=12)\n",
    "\n",
    "for _, row in grille_df.iterrows():\n",
    "    folium.Polygon(\n",
    "        locations=[(lat, lon) for lat, lon in row[\"polygon\"].exterior.coords],\n",
    "        color=None,\n",
    "        fill=True,\n",
    "        fill_color=distance_to_color(row[\"distance_to_station\"], grille_df[\"distance_to_station\"].max()),  # Fonction personnalisée\n",
    "        fill_opacity=0.3\n",
    "    ).add_to(m2)\n",
    "\n",
    "# Afficher la carte\n",
    "m2\n"
   ]
  }
 ],
 "metadata": {
  "kernelspec": {
   "display_name": "base",
   "language": "python",
   "name": "python3"
  },
  "language_info": {
   "codemirror_mode": {
    "name": "ipython",
    "version": 3
   },
   "file_extension": ".py",
   "mimetype": "text/x-python",
   "name": "python",
   "nbconvert_exporter": "python",
   "pygments_lexer": "ipython3",
   "version": "3.12.7"
  }
 },
 "nbformat": 4,
 "nbformat_minor": 2
}
