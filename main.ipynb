{
 "cells": [
  {
   "cell_type": "markdown",
   "metadata": {},
   "source": [
    "# Projet de Python pour la data science 2024 : Prédiction de la demande de recharge de véhicules électriques à Paris\n",
    "#### Encadrant : M. Victor Quétu \n",
    "#### Étudiants : Avner EL BAZ, Manuel Junior NDEFFO NKAMGUE, Daniel TRUSKINOVSKY"
   ]
  },
  {
   "cell_type": "markdown",
   "metadata": {},
   "source": [
    "![borne-elect](/home/onyxia/work/images/borne-elect.jpg)"
   ]
  },
  {
   "cell_type": "markdown",
   "metadata": {},
   "source": [
    "Dans une perspective éco-responsable d'adaptation des déplacements quotidiens, l'usage de la voiture électrique a le vent en poupe en France. En 2023, 17% des voitures achetées neuves étaient tout électriques et 9% étaient hybrides. En Île-de-France, les ventes de véhicules tout électriques ont augmenté de 60% entre 2022 et 2023, et celles de véhicules hybrides de 41%. \n",
    "\n",
    "Ainsi, la ville de Paris s'est dotée d'un réseau de bornes de recharge de véhicules, initialement créées pour les véhicules en libre-service Autolib' de 2011 jusqu'à l'arrêt du service en 2018. En 2021, le service Belib' est créé pour opérer le réseau de bornes et augmenter l'offre dans la capitale.\n",
    "\n",
    "Nous étudions dans ce projet un jeu de données tiré de plusieurs API publiques de la ville de Paris :\n",
    "- Belib' - Prises de recharge pour véhicules électriques - Données statiques, Paris OpenData.\n",
    "- Belib' - Prises de recharge pour véhicules électriques - Disponibilité temps réel, Paris OpenData.\n",
    "- Comptage routier - Données trafic issues des capteurs permanents, Paris OpenData.\n",
    "\n",
    "Nous avons obtenu ce jeu de données sur la plateforme Challenge Data, gérée par le data lab de l'ENS Paris.\n",
    "\n",
    "Ce jeu de données contient les informations de disponibilité des stations de recharge électrique à Paris du 1/10/2019 au 29/10/2020, donc avant la mise en place officielle du service Belib' (les stations appartiennent maintenant et réseau Belib' et leurs données sont bien enregistrées dans la même API), actualisées toutes les 15 min + autres données trafic routier à préciser.\n",
    "\n",
    "Avec l'augmentation du nombre de véhicules électriques, il est intéressant de pouvoir prédire la demande de bornes de recharge selon la disponibilité en temps réel dans une certaine zone et l'état du trafic. Depuis 2020, de nombreuses nouvelles stations ont été implantées à Paris : Les API de la ville de Paris étant toujours actives, nous pourrons comparer nos prédictions à l'implantation réelle des stations de 2021 à 2024.\n"
   ]
  },
  {
   "cell_type": "markdown",
   "metadata": {},
   "source": [
    "#### Importation des librairies"
   ]
  },
  {
   "cell_type": "code",
   "execution_count": 1,
   "metadata": {},
   "outputs": [],
   "source": [
    "import numpy as np\n",
    "import pandas as pd\n",
    "import folium"
   ]
  },
  {
   "cell_type": "markdown",
   "metadata": {},
   "source": [
    "#### Description des données\n",
    "\n",
    "1) Belib' - Prises de recharge pour véhicules électriques - Disponibilité temps réel\n",
    "\n",
    "Ce jeu de données recense pour toutes les stations de recharge présentes en octobo\n"
   ]
  },
  {
   "cell_type": "markdown",
   "metadata": {},
   "source": []
  },
  {
   "cell_type": "markdown",
   "metadata": {},
   "source": [
    "#### Traitement des données"
   ]
  },
  {
   "cell_type": "markdown",
   "metadata": {},
   "source": []
  }
 ],
 "metadata": {
  "kernelspec": {
   "display_name": "base",
   "language": "python",
   "name": "python3"
  },
  "language_info": {
   "codemirror_mode": {
    "name": "ipython",
    "version": 3
   },
   "file_extension": ".py",
   "mimetype": "text/x-python",
   "name": "python",
   "nbconvert_exporter": "python",
   "pygments_lexer": "ipython3",
   "version": "3.12.7"
  }
 },
 "nbformat": 4,
 "nbformat_minor": 2
}
