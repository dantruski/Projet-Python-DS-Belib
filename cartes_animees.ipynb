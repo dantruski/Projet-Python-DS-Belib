{
 "cells": [
  {
   "cell_type": "markdown",
   "metadata": {},
   "source": [
    "# Cartes animées\n",
    "\n",
    "On trace ici des cartes animées représentant l'évolution de diverses variables d'intérêt dans le temps au cours de la période d'étude, à l'aide de la fonction draw().\n",
    "\n",
    "NB : l'affichage des cartes est possible en exécutant les dernières cellules du notebook, que nous avons mises en commentaire car leur volume important nous empêche de commit en les ayant exécuté. De même, le return de la fonction draw est en commentaire. Vous pouvez visualiser ces cartes en enlevant les # et en exécutant les cellules."
   ]
  },
  {
   "cell_type": "code",
   "execution_count": 1,
   "metadata": {},
   "outputs": [],
   "source": [
    "import folium\n",
    "import pandas as pd\n",
    "from folium.plugins import TimestampedGeoJson\n",
    "from shapely.geometry import Point\n",
    "import numpy as np\n",
    "from branca.colormap import linear"
   ]
  },
  {
   "cell_type": "code",
   "execution_count": null,
   "metadata": {},
   "outputs": [],
   "source": [
    "# Charger les données à partir du fichier CSV\n",
    "file_path = 'csv/Final.csv'  \n",
    "data = pd.read_csv(file_path, parse_dates=['timestamp'])\n",
    "df = pd.DataFrame(data)"
   ]
  },
  {
   "cell_type": "code",
   "execution_count": 9,
   "metadata": {},
   "outputs": [
    {
     "name": "stdout",
     "output_type": "stream",
     "text": [
      "   Unnamed: 0                 timestamp carre_id  distance_to_closest_1  \\\n",
      "0           0 2020-01-22 01:00:00+00:00     1_15               0.008150   \n",
      "1           1 2020-01-22 01:00:00+00:00     1_16               0.006918   \n",
      "2           2 2020-01-22 01:00:00+00:00     1_17               0.003534   \n",
      "3           3 2020-01-22 01:00:00+00:00     1_18               0.005122   \n",
      "4           4 2020-01-22 01:00:00+00:00     1_20               0.011732   \n",
      "\n",
      "   taux_occup_closest_1  distance_to_closest_2  taux_occup_closest_2  \\\n",
      "0              0.666667               0.011619              0.333333   \n",
      "1              0.666667               0.006982              0.333333   \n",
      "2              0.333333               0.008904              0.666667   \n",
      "3              0.333333               0.009908              0.583333   \n",
      "4              0.333333               0.014273              0.333333   \n",
      "\n",
      "   distance_to_closest_3  taux_occup_closest_3  normalized_distance  \\\n",
      "0               0.014112              0.583333             0.350038   \n",
      "1               0.010746              0.583333             0.297110   \n",
      "2               0.009046              0.583333             0.151785   \n",
      "3               0.012677              0.666667             0.219959   \n",
      "4               0.016355              0.333333             0.503850   \n",
      "\n",
      "   moyenne_k     lati    long  occup_moy_1  occup_moy_2  occup_moy_3  \n",
      "0   2.515874  48.8175  2.3325     0.029687     0.025425     0.031942  \n",
      "1   2.962500  48.8175  2.3375     0.025199     0.018957     0.024055  \n",
      "2   0.758611  48.8175  2.3425     0.006437     0.019435     0.022567  \n",
      "3   0.157334  48.8175  2.3475     0.009328     0.020453     0.029028  \n",
      "4   1.810644  48.8175  2.3575     0.021366     0.023680     0.025715  \n",
      "         Unnamed: 0  distance_to_closest_1  taux_occup_closest_1  \\\n",
      "count  65688.000000           65688.000000          65688.000000   \n",
      "mean   32843.500000               0.008800              0.503042   \n",
      "std    18962.636578               0.004964              0.166428   \n",
      "min        0.000000               0.000310              0.333333   \n",
      "25%    16421.750000               0.005083              0.333333   \n",
      "50%    32843.500000               0.008159              0.444444   \n",
      "75%    49265.250000               0.011510              0.666667   \n",
      "max    65687.000000               0.040485              1.000000   \n",
      "\n",
      "       distance_to_closest_2  taux_occup_closest_2  distance_to_closest_3  \\\n",
      "count           65688.000000          65688.000000           65688.000000   \n",
      "mean                0.014319              0.507953               0.018485   \n",
      "std                 0.006077              0.166872               0.006900   \n",
      "min                 0.002488              0.333333               0.004631   \n",
      "25%                 0.009908              0.333333               0.013283   \n",
      "50%                 0.013306              0.500000               0.017386   \n",
      "75%                 0.017815              0.666667               0.022605   \n",
      "max                 0.046936              1.000000               0.054430   \n",
      "\n",
      "       taux_occup_closest_3  normalized_distance     moyenne_k          lati  \\\n",
      "count          65688.000000         65688.000000  65688.000000  65688.000000   \n",
      "mean               0.508011             0.329673      4.102309     48.858178   \n",
      "std                0.168244             0.185905      4.815230      0.021411   \n",
      "min                0.333333             0.008700      0.000000     48.817500   \n",
      "25%                0.333333             0.187931      0.775040     48.842500   \n",
      "50%                0.500000             0.302160      2.499344     48.857500   \n",
      "75%                0.666667             0.437658      5.647675     48.872500   \n",
      "max                1.000000             1.000000     62.254260     48.897500   \n",
      "\n",
      "               long   occup_moy_1   occup_moy_2   occup_moy_3  \n",
      "count  65688.000000  65688.000000  65688.000000  65688.000000  \n",
      "mean       2.341311      0.023924      0.031655      0.038067  \n",
      "std        0.040533      0.015738      0.015336      0.015868  \n",
      "min        2.257500      0.000564      0.004489      0.006356  \n",
      "25%        2.307500      0.012873      0.020486      0.026519  \n",
      "50%        2.342500      0.020481      0.028974      0.035459  \n",
      "75%        2.372500      0.031313      0.039764      0.046612  \n",
      "max        2.412500      0.161589      0.155208      0.136897  \n",
      "moyenne_k\n",
      "0.000000     5573\n",
      "1.000000       10\n",
      "0.300000        7\n",
      "0.500000        7\n",
      "2.200000        7\n",
      "             ... \n",
      "21.650835       1\n",
      "10.792500       1\n",
      "9.312132        1\n",
      "4.685834        1\n",
      "4.113668        1\n",
      "Name: count, Length: 58353, dtype: int64\n"
     ]
    }
   ],
   "source": [
    "print(data.head())  # Voir les premières lignes du dataset\n",
    "print(data.describe())  # Statistiques descriptives pour détecter les anomalies\n",
    "print(data['moyenne_k'].value_counts())  # Fréquences des valeurs spécifiques\n"
   ]
  },
  {
   "cell_type": "code",
   "execution_count": 4,
   "metadata": {},
   "outputs": [
    {
     "data": {
      "image/png": "[encoded data removed]",
      "text/plain": [
       "<Figure size 640x480 with 1 Axes>"
      ]
     },
     "metadata": {},
     "output_type": "display_data"
    }
   ],
   "source": [
    "import matplotlib.pyplot as plt\n",
    "\n",
    "data['moyenne_k'].hist(bins=50)\n",
    "plt.title(\"Distribution des valeurs moyenne_occup\")\n",
    "plt.xlabel(\"moyenne_k\")\n",
    "plt.ylabel(\"Fréquence\")\n",
    "plt.show()\n"
   ]
  },
  {
   "cell_type": "code",
   "execution_count": 10,
   "metadata": {},
   "outputs": [],
   "source": [
    "# Préparer les coins des carrés à partir des centres\n",
    "square_size = 0.005  # Taille des carrés (latitude/longitude)\n",
    "data['lat_min'] = data['lati'] - square_size / 2\n",
    "data['lat_max'] = data['lati'] + square_size / 2\n",
    "data['lon_min'] = data['long'] - square_size / 2\n",
    "data['lon_max'] = data['long'] + square_size / 2\n"
   ]
  },
  {
   "cell_type": "markdown",
   "metadata": {},
   "source": [
    "Fonction qui génère une série temporelle sous forme de carte pour la variable étudiée"
   ]
  },
  {
   "cell_type": "code",
   "execution_count": 15,
   "metadata": {},
   "outputs": [],
   "source": [
    "\n",
    "\n",
    "def draw(var):\n",
    "\n",
    "    # Préparer la colormap\n",
    "    cmap = linear.PuRd_09.scale(data[var].min(), data[var].max())\n",
    "\n",
    "    # Initialiser la carte centrée sur Paris\n",
    "    m = folium.Map(location=[48.8566, 2.3522], zoom_start=12)\n",
    "\n",
    "    # Préparer le GeoJSON pour animer les carrés\n",
    "    geojson_data = []\n",
    "\n",
    "    for _, row in data.iterrows():\n",
    "        # Définir la couleur du carré en fonction de 'moyenne_k'\n",
    "        color = cmap(row[var])\n",
    "\n",
    "        # Ajouter le carré à la liste GeoJSON\n",
    "        geojson_data.append({\n",
    "            \"type\": \"Feature\",\n",
    "            \"geometry\": {\n",
    "                \"type\": \"Polygon\",\n",
    "                \"coordinates\": [[\n",
    "                    [row['lon_min'], row['lat_min']],\n",
    "                    [row['lon_min'], row['lat_max']],\n",
    "                    [row['lon_max'], row['lat_max']],\n",
    "                    [row['lon_max'], row['lat_min']],\n",
    "                    [row['lon_min'], row['lat_min']]  # Fermer le polygone\n",
    "                ]]\n",
    "            },\n",
    "            \"properties\": {\n",
    "                \"time\": row['timestamp'].isoformat(),\n",
    "                \"style\": {\n",
    "                    \"color\": \"\",\n",
    "                    \"fillColor\": color,\n",
    "                    \"fillOpacity\": 0.4,\n",
    "                },\n",
    "                \"popup\": (f\"Heure: {row['timestamp']}<br>\"\n",
    "                        f\"Moyenne Occup: {row[var]:.2f}<br>\")\n",
    "            }\n",
    "        })\n",
    "\n",
    "\n",
    "        \n",
    "\n",
    "    # Ajouter l'animation des carrés sur la carte\n",
    "    TimestampedGeoJson(\n",
    "        {\"type\": \"FeatureCollection\", \"features\": geojson_data},\n",
    "        period='PT1H',  # Intervalle entre les changements (1 heure)\n",
    "        duration=\"PT1H\",  # Durée d'affichage de chaque état\n",
    "        auto_play=True,   # Lancer automatiquement\n",
    "        loop=False,       # Ne pas boucler\n",
    "        add_last_point=True\n",
    "    ).add_to(m)\n",
    "    m.save(f\"map/map_{var}.html\")\n",
    "\n",
    "    # Afficher la carte\n",
    "    #return m\n"
   ]
  },
  {
   "cell_type": "code",
   "execution_count": null,
   "metadata": {},
   "outputs": [],
   "source": [
    "#carte1=draw('occup_moy_1')\n",
    "#carte1\n"
   ]
  },
  {
   "cell_type": "code",
   "execution_count": null,
   "metadata": {},
   "outputs": [],
   "source": [
    "#carte2=draw('occup_moy_2')\n",
    "#carte2"
   ]
  },
  {
   "cell_type": "code",
   "execution_count": null,
   "metadata": {},
   "outputs": [],
   "source": [
    "#carte3= draw('moyenne_k')\n",
    "#carte3"
   ]
  }
 ],
 "metadata": {
  "kernelspec": {
   "display_name": "base",
   "language": "python",
   "name": "python3"
  },
  "language_info": {
   "codemirror_mode": {
    "name": "ipython",
    "version": 3
   },
   "file_extension": ".py",
   "mimetype": "text/x-python",
   "name": "python",
   "nbconvert_exporter": "python",
   "pygments_lexer": "ipython3",
   "version": "3.12.7"
  }
 },
 "nbformat": 4,
 "nbformat_minor": 2
}
