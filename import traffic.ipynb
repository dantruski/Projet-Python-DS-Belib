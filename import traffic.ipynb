{
 "cells": [
  {
   "cell_type": "code",
   "execution_count": null,
   "metadata": {
    "vscode": {
     "languageId": "julia"
    }
   },
   "outputs": [],
   "source": [
    "import requests\n",
    "import zipfile\n",
    "import io\n",
    "import os\n",
    "import json\n",
    "\n",
    "# URL du fichier ZIP\n",
    "url = \"https://opendata.paris.fr/api/datasets/1.0/comptages-routiers-permanents-historique/attachments/opendata_txt_2020_zip/\"\n",
    "\n",
    "# Nom local du fichier ZIP\n",
    "zip_filename = \"comptages_routiers_2020.zip\"\n",
    "\n",
    "# Dossier où extraire les fichiers\n",
    "output_folder = \"extracted_data\"\n",
    "\n",
    "# Étape 1 : Télécharger le fichier ZIP\n",
    "response = requests.get(url, stream=True)\n",
    "if response.status_code == 200:\n",
    "    with open(zip_filename, \"wb\") as f:\n",
    "        f.write(response.content)\n",
    "    print(f\"Fichier téléchargé : {zip_filename}\")\n",
    "else:\n",
    "    print(f\"Erreur lors du téléchargement : {response.status_code}\")\n",
    "    exit()\n",
    "\n",
    "# Étape 2 : Extraire le contenu du fichier ZIP\n",
    "if not os.path.exists(output_folder):\n",
    "    os.makedirs(output_folder)\n",
    "\n",
    "with zipfile.ZipFile(zip_filename, 'r') as zip_ref:\n",
    "    zip_ref.extractall(output_folder)\n",
    "    print(f\"Fichiers extraits dans le dossier : {output_folder}\")\n",
    "\n",
    "# Étape 3 : Lister les fichiers extraits\n",
    "files = os.listdir(output_folder)\n",
    "print(f\"Fichiers extraits : {files}\")\n",
    "\n",
    "# Étape 4 : Charger le fichier JSON (si présent)\n",
    "json_files = [file for file in files if file.endswith('.json')]\n",
    "if json_files:\n",
    "    json_path = os.path.join(output_folder, json_files[0])  # Charger le premier fichier JSON trouvé\n",
    "    with open(json_path, 'r', encoding='utf-8') as f:\n",
    "        data = json.load(f)\n",
    "    print(\"Données chargées avec succès.\")\n",
    "    print(f\"Exemple de données : {json.dumps(data[:1], indent=4)}\")  # Afficher un exemple\n",
    "else:\n",
    "    print(\"Aucun fichier JSON trouvé dans le ZIP.\")\n"
   ]
  }
 ],
 "metadata": {
  "language_info": {
   "name": "python"
  }
 },
 "nbformat": 4,
 "nbformat_minor": 2
}
