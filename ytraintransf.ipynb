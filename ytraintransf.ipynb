{
 "cells": [
  {
   "cell_type": "markdown",
   "metadata": {},
   "source": [
    "Le but de ce code est de modifier comme il se doit le data set ytrain pour avoir des données par heures et dans un carré\n"
   ]
  },
  {
   "cell_type": "code",
   "execution_count": 1,
   "metadata": {},
   "outputs": [],
   "source": [
    "import folium\n",
    "import pandas as pd\n",
    "from folium.plugins import TimestampedGeoJson\n",
    "from shapely.geometry import Point\n",
    "import numpy as np\n",
    "\n",
    "from branca.colormap import linear"
   ]
  },
  {
   "cell_type": "code",
   "execution_count": 2,
   "metadata": {},
   "outputs": [
    {
     "data": {
      "text/html": [
       "<div>\n",
       "<style scoped>\n",
       "    .dataframe tbody tr th:only-of-type {\n",
       "        vertical-align: middle;\n",
       "    }\n",
       "\n",
       "    .dataframe tbody tr th {\n",
       "        vertical-align: top;\n",
       "    }\n",
       "\n",
       "    .dataframe thead th {\n",
       "        text-align: right;\n",
       "    }\n",
       "</style>\n",
       "<table border=\"1\" class=\"dataframe\">\n",
       "  <thead>\n",
       "    <tr style=\"text-align: right;\">\n",
       "      <th></th>\n",
       "      <th>timestamp</th>\n",
       "      <th>latitude</th>\n",
       "      <th>longitude</th>\n",
       "      <th>taux_occup</th>\n",
       "    </tr>\n",
       "  </thead>\n",
       "  <tbody>\n",
       "    <tr>\n",
       "      <th>0</th>\n",
       "      <td>2020-01-22 01:00:00+00:00</td>\n",
       "      <td>48.855667</td>\n",
       "      <td>2.354089</td>\n",
       "      <td>0.666667</td>\n",
       "    </tr>\n",
       "    <tr>\n",
       "      <th>1</th>\n",
       "      <td>2020-01-22 01:00:00+00:00</td>\n",
       "      <td>48.864240</td>\n",
       "      <td>2.397724</td>\n",
       "      <td>0.666667</td>\n",
       "    </tr>\n",
       "  </tbody>\n",
       "</table>\n",
       "</div>"
      ],
      "text/plain": [
       "                   timestamp   latitude  longitude  taux_occup\n",
       "0  2020-01-22 01:00:00+00:00  48.855667   2.354089    0.666667\n",
       "1  2020-01-22 01:00:00+00:00  48.864240   2.397724    0.666667"
      ]
     },
     "execution_count": 2,
     "metadata": {},
     "output_type": "execute_result"
    }
   ],
   "source": [
    "data = pd.read_csv(\"hourly_df_semaine2229.csv\")\n",
    "df_real = pd.DataFrame(data)\n",
    "df_real = df_real[['timestamp','latitude','longitude','taux_occup']]\n",
    "df_real.head(2)\n"
   ]
  },
  {
   "cell_type": "code",
   "execution_count": 7,
   "metadata": {},
   "outputs": [],
   "source": [
    "\n",
    "\n",
    "# Définir les limites de la grille (basé sur Paris)\n",
    "lat_min, lat_max = 48.81, 48.92\n",
    "lon_min, lon_max = 2.255, 2.42\n",
    "step = 0.005  # Taille d'un carré (grille de 0.005°)"
   ]
  },
  {
   "cell_type": "code",
   "execution_count": 8,
   "metadata": {},
   "outputs": [],
   "source": [
    "\n",
    "# Fonction pour créer la grille\n",
    "def creer_grille(lat_min, lat_max, lon_min, lon_max, step):\n",
    "    grille = []\n",
    "    latitudes = np.arange(lat_min, lat_max, step)\n",
    "    longitudes = np.arange(lon_min, lon_max, step)\n",
    "    \n",
    "    for i in range(len(latitudes) - 1):\n",
    "        for j in range(len(longitudes) - 1):\n",
    "            carre = {\n",
    "                \"id\": f\"{i}_{j}\",\n",
    "                \"lat_min\": latitudes[i],\n",
    "                \"lat_max\": latitudes[i + 1],\n",
    "                \"lon_min\": longitudes[j],\n",
    "                \"lon_max\": longitudes[j + 1],\n",
    "                \"lati\": latitudes[i] + step / 2,  # Centre du carré\n",
    "                \"long\": longitudes[j] + step / 2  # Centre du carré\n",
    "            }\n",
    "            grille.append(carre)\n",
    "    return grille\n",
    "\n",
    "# Fonction pour trouver le carré correspondant à un point\n",
    "def trouver_carre(lat, lon, grille):\n",
    "    if pd.isnull(lat) or pd.isnull(lon):  # Vérifier si lat ou lon est NaN\n",
    "        return None, None, None\n",
    "    for carre in grille:\n",
    "        if carre[\"lat_min\"] <= lat < carre[\"lat_max\"] and carre[\"lon_min\"] <= lon < carre[\"lon_max\"]:\n",
    "            return carre[\"id\"], carre[\"lati\"], carre[\"long\"]\n",
    "    return None, None, None\n",
    "\n",
    "# Fonction pour associer les carrés à chaque point GPS\n",
    "def associer_carres(df, grille):\n",
    "    df[['carre_id', 'lati', 'long']] = df.apply(\n",
    "        lambda row: pd.Series(trouver_carre(row['latitude'], row['longitude'], grille)), axis=1\n",
    "    )\n",
    "    return df"
   ]
  },
  {
   "cell_type": "code",
   "execution_count": 5,
   "metadata": {},
   "outputs": [
    {
     "name": "stdout",
     "output_type": "stream",
     "text": [
      "                  timestamp   latitude  longitude  taux_occup carre_id  \\\n",
      "0 2020-01-22 01:00:00+00:00  48.855667   2.354089    0.666667     9_19   \n",
      "1 2020-01-22 01:00:00+00:00  48.864240   2.397724    0.666667    10_28   \n",
      "\n",
      "      lati    long  \n",
      "0  48.8575  2.3525  \n",
      "1  48.8625  2.3975  \n"
     ]
    }
   ],
   "source": [
    "\n",
    "\n",
    "# Créer la grille\n",
    "grille = creer_grille(lat_min, lat_max, lon_min, lon_max, step)\n",
    "\n",
    "\n",
    "\n",
    "# Extraire les identifiants uniques pour correspondre les datasets\n",
    "df_real['timestamp'] = pd.to_datetime(df_real['timestamp'])  # Convertir en datetime\n",
    "\n",
    "\n",
    "\n",
    "# Ajouter les informations de la grille au dataset final\n",
    "df_real = associer_carres(df_real, grille)\n",
    "\n",
    "# Supprimer les lignes avec des valeurs manquantes critiques\n",
    "df_real = df_real.dropna(subset=['latitude', 'longitude', 'carre_id'])\n",
    "\n",
    "# Afficher un aperçu du DataFrame final\n",
    "print(df_real.head(2))\n",
    "\n"
   ]
  },
  {
   "cell_type": "code",
   "execution_count": 9,
   "metadata": {},
   "outputs": [
    {
     "name": "stdout",
     "output_type": "stream",
     "text": [
      "1.0\n",
      "count    10920.000000\n",
      "mean         0.298928\n",
      "std          0.262602\n",
      "min          0.000000\n",
      "25%          0.000000\n",
      "50%          0.333333\n",
      "75%          0.500000\n",
      "max          1.000000\n",
      "Name: moyenne_occup, dtype: float64\n"
     ]
    }
   ],
   "source": [
    "# Regrouper les données par carré et t_1h, puis calculer la moyenne de k\n",
    "resultats_groupes = df_real.groupby(['timestamp','carre_id']).agg(\n",
    "    moyenne_occup=('taux_occup', 'mean'),\n",
    "    count_occup=('taux_occup', 'count'),\n",
    "    lati= ('lati', 'mean'),\n",
    "    long= ('long', 'mean')\n",
    ").reset_index()\n",
    "\n",
    "print(resultats_groupes['moyenne_occup'].max())\n",
    "resultats_groupes.head(10)\n",
    "print(resultats_groupes['moyenne_occup'].describe())"
   ]
  },
  {
   "cell_type": "code",
   "execution_count": 10,
   "metadata": {},
   "outputs": [],
   "source": [
    "# Sauvegarder le DataFrame final dans un nouveau fichier CSV\n",
    "resultats_groupes.to_csv(\"station_agg.csv\", index=False)\n"
   ]
  }
 ],
 "metadata": {
  "kernelspec": {
   "display_name": "base",
   "language": "python",
   "name": "python3"
  },
  "language_info": {
   "codemirror_mode": {
    "name": "ipython",
    "version": 3
   },
   "file_extension": ".py",
   "mimetype": "text/x-python",
   "name": "python",
   "nbconvert_exporter": "python",
   "pygments_lexer": "ipython3",
   "version": "3.12.7"
  }
 },
 "nbformat": 4,
 "nbformat_minor": 2
}
