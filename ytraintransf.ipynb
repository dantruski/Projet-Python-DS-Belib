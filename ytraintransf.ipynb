{
 "cells": [
  {
   "cell_type": "markdown",
   "metadata": {},
   "source": [
    "Le but de ce code est de modifier comme il se doit le data set ytrain pour avoir des données par heures et dans un carré\n"
   ]
  },
  {
   "cell_type": "code",
   "execution_count": 2,
   "metadata": {},
   "outputs": [],
   "source": [
    "import folium\n",
    "import pandas as pd\n",
    "from folium.plugins import TimestampedGeoJson\n",
    "from shapely.geometry import Point\n",
    "import numpy as np\n",
    "\n",
    "from branca.colormap import linear"
   ]
  },
  {
   "cell_type": "code",
   "execution_count": null,
   "metadata": {},
   "outputs": [],
   "source": [
    "data = pd.read_csv(\"hourly_df_semaine.csv\")\n",
    "df_real = pd.DataFrame(data)\n",
    "data_stat = pd.read_csv(\"info_static.csv\")\n",
    "df_stat = pd.DataFrame(data_stat)\n",
    "df_stat = df_stat[['t_id','latitude','longitude']]"
   ]
  },
  {
   "cell_type": "code",
   "execution_count": 8,
   "metadata": {},
   "outputs": [],
   "source": [
    "\n",
    "# Nettoyage des données de latitude et longitude dans data_stat\n",
    "df_stat['latitude'] = pd.to_numeric(df_stat['latitude'], errors='coerce')\n",
    "df_stat['longitude'] = pd.to_numeric(df_stat['longitude'], errors='coerce')\n",
    "\n",
    "# Définir les limites de la grille (basé sur Paris)\n",
    "lat_min, lat_max = 48.81, 48.92\n",
    "lon_min, lon_max = 2.255, 2.42\n",
    "step = 0.005  # Taille d'un carré (grille de 0.005°)"
   ]
  },
  {
   "cell_type": "code",
   "execution_count": 9,
   "metadata": {},
   "outputs": [],
   "source": [
    "\n",
    "# Fonction pour créer la grille\n",
    "def creer_grille(lat_min, lat_max, lon_min, lon_max, step):\n",
    "    grille = []\n",
    "    latitudes = np.arange(lat_min, lat_max, step)\n",
    "    longitudes = np.arange(lon_min, lon_max, step)\n",
    "    \n",
    "    for i in range(len(latitudes) - 1):\n",
    "        for j in range(len(longitudes) - 1):\n",
    "            carre = {\n",
    "                \"id\": f\"{i}_{j}\",\n",
    "                \"lat_min\": latitudes[i],\n",
    "                \"lat_max\": latitudes[i + 1],\n",
    "                \"lon_min\": longitudes[j],\n",
    "                \"lon_max\": longitudes[j + 1],\n",
    "                \"lati\": latitudes[i] + step / 2,  # Centre du carré\n",
    "                \"long\": longitudes[j] + step / 2  # Centre du carré\n",
    "            }\n",
    "            grille.append(carre)\n",
    "    return grille\n",
    "\n",
    "# Fonction pour trouver le carré correspondant à un point\n",
    "def trouver_carre(lat, lon, grille):\n",
    "    if pd.isnull(lat) or pd.isnull(lon):  # Vérifier si lat ou lon est NaN\n",
    "        return None, None, None\n",
    "    for carre in grille:\n",
    "        if carre[\"lat_min\"] <= lat < carre[\"lat_max\"] and carre[\"lon_min\"] <= lon < carre[\"lon_max\"]:\n",
    "            return carre[\"id\"], carre[\"lati\"], carre[\"long\"]\n",
    "    return None, None, None\n",
    "\n",
    "# Fonction pour associer les carrés à chaque point GPS\n",
    "def associer_carres(df, grille):\n",
    "    df[['carre_id', 'lati', 'long']] = df.apply(\n",
    "        lambda row: pd.Series(trouver_carre(row['latitude'], row['longitude'], grille)), axis=1\n",
    "    )\n",
    "    return df"
   ]
  },
  {
   "cell_type": "code",
   "execution_count": 10,
   "metadata": {},
   "outputs": [
    {
     "name": "stdout",
     "output_type": "stream",
     "text": [
      "Empty DataFrame\n",
      "Columns: [timestamp, t_id, status, latitude, longitude, carre_id, lati, long]\n",
      "Index: []\n"
     ]
    }
   ],
   "source": [
    "\n",
    "\n",
    "# Créer la grille\n",
    "grille = creer_grille(lat_min, lat_max, lon_min, lon_max, step)\n",
    "\n",
    "# Associer les carrés pour le dataset statique (info_static)\n",
    "df_stat = associer_carres(df_stat, grille)\n",
    "\n",
    "# Extraire les identifiants uniques pour correspondre les datasets\n",
    "df_real['timestamp'] = pd.to_datetime(df_real['timestamp'])  # Convertir en datetime\n",
    "df_real_long = df_real.melt(id_vars=['timestamp'], var_name='t_id', value_name='status')\n",
    "\n",
    "# Ajouter les informations statiques (latitude, longitude, adresse, etc.) à partir de data_stat\n",
    "df_real_long = df_real_long.merge(\n",
    "    df_stat[['t_id', 'latitude', 'longitude']],\n",
    "    on='t_id', how='left'\n",
    ")\n",
    "\n",
    "# Ajouter les informations de la grille au dataset final\n",
    "df_real_long = associer_carres(df_real_long, grille)\n",
    "\n",
    "# Supprimer les lignes avec des valeurs manquantes critiques\n",
    "df_real_long = df_real_long.dropna(subset=['latitude', 'longitude', 'carre_id'])\n",
    "\n",
    "# Afficher un aperçu du DataFrame final\n",
    "print(df_real_long.head(2))\n",
    "\n"
   ]
  },
  {
   "cell_type": "code",
   "execution_count": null,
   "metadata": {},
   "outputs": [],
   "source": []
  },
  {
   "cell_type": "code",
   "execution_count": null,
   "metadata": {},
   "outputs": [],
   "source": [
    "# Regrouper les données par carré et t_1h, puis calculer la moyenne de k\n",
    "resultats_groupes = merged_df.groupby(['timestamp','carre_id']).agg(\n",
    "    moyenne_k=('k', 'mean'),\n",
    "    somme_k=('k', 'sum'),\n",
    "    count_k=('k', 'count'),\n",
    "    lati= ('lati', 'mean'),\n",
    "    long= ('long', 'mean')\n",
    ").reset_index()\n",
    "\n",
    "print(resultats_groupes['moyenne_k'].max())\n",
    "resultats_groupes.head(10)\n",
    "print(resultats_groupes['moyenne_k'].describe())"
   ]
  },
  {
   "cell_type": "code",
   "execution_count": null,
   "metadata": {},
   "outputs": [],
   "source": [
    "# Sauvegarder le DataFrame final dans un nouveau fichier CSV\n",
    "df_real_long.to_csv(\"dataset_complet.csv\", index=False)\n"
   ]
  }
 ],
 "metadata": {
  "kernelspec": {
   "display_name": "base",
   "language": "python",
   "name": "python3"
  },
  "language_info": {
   "codemirror_mode": {
    "name": "ipython",
    "version": 3
   },
   "file_extension": ".py",
   "mimetype": "text/x-python",
   "name": "python",
   "nbconvert_exporter": "python",
   "pygments_lexer": "ipython3",
   "version": "3.12.7"
  }
 },
 "nbformat": 4,
 "nbformat_minor": 2
}
